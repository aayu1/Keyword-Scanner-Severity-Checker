{
 "cells": [
  {
   "cell_type": "code",
   "execution_count": 1,
   "metadata": {},
   "outputs": [
    {
     "name": "stdout",
     "output_type": "stream",
     "text": [
      "{b'java': 135, b'in': 369}\n"
     ]
    }
   ],
   "source": [
    "\n",
    "import pandas as pd\n",
    "import numpy as np\n",
    "import PyPDF2\n",
    "import textract\n",
    "import re\n",
    "\n",
    "filename ='JavaBasics-notes.pdf' \n",
    "\n",
    "pdfFileObj = open(filename,'rb')               \n",
    "pdfReader = PyPDF2.PdfFileReader(pdfFileObj)   \n",
    "num_pages = pdfReader.numPages                 \n",
    "\n",
    "\n",
    "count = 0\n",
    "text = \"\"\n",
    "                                                            \n",
    "while count < num_pages:                       \n",
    "    pageObj = pdfReader.getPage(count)\n",
    "    count +=1\n",
    "    text += pageObj.extractText()\n",
    "    \n",
    "if text != \"\":\n",
    "    text = text\n",
    " \n",
    "else:\n",
    "    text = textract.process('http://bit.ly/epo_keyword_extraction_document', method='tesseract', language='eng')\n",
    "\n",
    "\n",
    "text = text.encode('ascii','ignore').lower()\n",
    "l=[\"java\",\"in\"]\n",
    "d={}\n",
    "for i in l:\n",
    "    i=bytes(i, \"utf8\")\n",
    "    keywords = re.findall(i,text)\n",
    "    d[i]=len(keywords)\n",
    "print(d)\n",
    "#df = pd.DataFrame(list(set(keywords)),columns=['keywords'])\n",
    "\n",
    "\n",
    "\n",
    "\n",
    "\n",
    "#def weightage(word,text,number_of_documents=1):\n",
    "    #word_list = re.findall(word,text)\n",
    "    #number_of_times_word_appeared =len(word_list)\n",
    "    #tf = number_of_times_word_appeared/float(len(text))\n",
    "    #idf = np.log((number_of_documents)/float(number_of_times_word_appeared))\n",
    "    #tf_idf = tf*idf\n",
    "    #return number_of_times_word_appeared,tf,idf ,tf_idf \n",
    "\n",
    "\n",
    "    \n",
    "#df['number_of_times_word_appeared'] = df['keywords'].apply(lambda x: weightage(x,text)[0])\n",
    "#df['tf'] = df['keywords'].apply(lambda x: weightage(x,text)[1])\n",
    "#df['idf'] = df['keywords'].apply(lambda x: weightage(x,text)[2])\n",
    "#df['tf_idf'] = df['keywords'].apply(lambda x: weightage(x,text)[3])\n",
    "\n",
    "#df = df.sort_values('tf_idf',ascending=True)\n",
    "#df.head(1000)     "
   ]
  },
  {
   "cell_type": "code",
   "execution_count": null,
   "metadata": {},
   "outputs": [],
   "source": []
  }
 ],
 "metadata": {
  "kernelspec": {
   "display_name": "Python 3",
   "language": "python",
   "name": "python3"
  },
  "language_info": {
   "codemirror_mode": {
    "name": "ipython",
    "version": 3
   },
   "file_extension": ".py",
   "mimetype": "text/x-python",
   "name": "python",
   "nbconvert_exporter": "python",
   "pygments_lexer": "ipython3",
   "version": "3.6.8"
  }
 },
 "nbformat": 4,
 "nbformat_minor": 2
}
